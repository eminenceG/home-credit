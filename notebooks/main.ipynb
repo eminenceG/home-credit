{
 "cells": [
  {
   "cell_type": "code",
   "execution_count": 1,
   "metadata": {},
   "outputs": [],
   "source": [
    "import pandas as pd\n",
    "import numpy as np\n",
    "import matplotlib\n",
    "import os"
   ]
  },
  {
   "cell_type": "code",
   "execution_count": 3,
   "metadata": {},
   "outputs": [
    {
     "name": "stdout",
     "output_type": "stream",
     "text": [
      ">>>> WE HAVE TABLES: <<<<\n",
      "\n",
      "previous_application\n",
      "bureau_balance\n",
      "installments_payments\n",
      "application_train\n",
      "sample_submission\n",
      "POS_CASH_balance\n",
      "credit_card_balance\n",
      "bureau\n"
     ]
    }
   ],
   "source": [
    "# exam tables we have\n",
    "csv_files = os.listdir(\"../input\")\n",
    "print(\">>>> WE HAVE TABLES: <<<<\")\n",
    "print()\n",
    "for csv_file in csv_files:\n",
    "    if (csv_file != \"HomeCredit_columns_description.csv\" and csv_file != \"application_test.csv\"):\n",
    "        print(csv_file.split(\".\")[0])"
   ]
  },
  {
   "cell_type": "code",
   "execution_count": 3,
   "metadata": {},
   "outputs": [
    {
     "name": "stdout",
     "output_type": "stream",
     "text": [
      "Size of application_train data (307511, 122)\n"
     ]
    }
   ],
   "source": [
    "# exam the application_train table\n",
    "application_train = pd.read_csv('../input/application_train.csv')\n",
    "print('Size of application_train data', application_train.shape)"
   ]
  },
  {
   "cell_type": "code",
   "execution_count": 4,
   "metadata": {},
   "outputs": [
    {
     "name": "stdout",
     "output_type": "stream",
     "text": [
      "                           Total    Percent\n",
      "COMMONAREA_MEDI           214865  69.872297\n",
      "COMMONAREA_AVG            214865  69.872297\n",
      "COMMONAREA_MODE           214865  69.872297\n",
      "NONLIVINGAPARTMENTS_MODE  213514  69.432963\n",
      "NONLIVINGAPARTMENTS_MEDI  213514  69.432963\n",
      "\n",
      "since there are no features that has a missing rate larger than 75%, we will keep all of them\n"
     ]
    }
   ],
   "source": [
    "# checking missing data\n",
    "total = application_train.isnull().sum().sort_values(ascending = False)\n",
    "percent = (application_train.isnull().sum()/application_train.isnull().count()*100).sort_values(ascending = False)\n",
    "missing_application_train_data  = pd.concat([total, percent], axis=1, keys=['Total', 'Percent'])\n",
    "print(missing_application_train_data.head(5))\n",
    "print(\"\\nsince there are no features that has a missing rate larger than 75%, we will keep all of them\")"
   ]
  },
  {
   "cell_type": "code",
   "execution_count": 5,
   "metadata": {},
   "outputs": [
    {
     "data": {
      "text/plain": [
       "numpy.int64"
      ]
     },
     "execution_count": 5,
     "metadata": {},
     "output_type": "execute_result"
    }
   ],
   "source": [
    "type(application_train[\"FLAG_MOBIL\"][0])"
   ]
  },
  {
   "cell_type": "code",
   "execution_count": 51,
   "metadata": {},
   "outputs": [
    {
     "data": {
      "text/plain": [
       "0         1\n",
       "1         1\n",
       "2         1\n",
       "3         1\n",
       "4         1\n",
       "5         1\n",
       "6         1\n",
       "7         1\n",
       "8         1\n",
       "9         1\n",
       "10        1\n",
       "11        1\n",
       "12        1\n",
       "13        1\n",
       "14        1\n",
       "15        1\n",
       "16        1\n",
       "17        1\n",
       "18        1\n",
       "19        1\n",
       "20        1\n",
       "21        1\n",
       "22        1\n",
       "23        1\n",
       "24        1\n",
       "25        1\n",
       "26        1\n",
       "27        1\n",
       "28        1\n",
       "29        1\n",
       "         ..\n",
       "307481    1\n",
       "307482    1\n",
       "307483    1\n",
       "307484    1\n",
       "307485    1\n",
       "307486    1\n",
       "307487    1\n",
       "307488    1\n",
       "307489    1\n",
       "307490    1\n",
       "307491    1\n",
       "307492    1\n",
       "307493    1\n",
       "307494    1\n",
       "307495    1\n",
       "307496    1\n",
       "307497    1\n",
       "307498    1\n",
       "307499    1\n",
       "307500    1\n",
       "307501    1\n",
       "307502    1\n",
       "307503    1\n",
       "307504    1\n",
       "307505    1\n",
       "307506    1\n",
       "307507    1\n",
       "307508    1\n",
       "307509    1\n",
       "307510    1\n",
       "Name: FLAG_MOBIL, Length: 307511, dtype: int64"
      ]
     },
     "execution_count": 51,
     "metadata": {},
     "output_type": "execute_result"
    }
   ],
   "source": [
    "application_train[\"FLAG_MOBIL\"]"
   ]
  },
  {
   "cell_type": "code",
   "execution_count": null,
   "metadata": {},
   "outputs": [],
   "source": []
  }
 ],
 "metadata": {
  "kernelspec": {
   "display_name": "Python 3",
   "language": "python",
   "name": "python3"
  },
  "language_info": {
   "codemirror_mode": {
    "name": "ipython",
    "version": 3
   },
   "file_extension": ".py",
   "mimetype": "text/x-python",
   "name": "python",
   "nbconvert_exporter": "python",
   "pygments_lexer": "ipython3",
   "version": "3.7.0"
  }
 },
 "nbformat": 4,
 "nbformat_minor": 2
}
